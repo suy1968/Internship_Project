{
 "cells": [
  {
   "cell_type": "markdown",
   "metadata": {},
   "source": [
    "# SUYASH PRATAP SINGH"
   ]
  },
  {
   "cell_type": "code",
   "execution_count": 1,
   "metadata": {},
   "outputs": [],
   "source": [
    "import numpy as np\n",
    "import pandas as pd\n",
    "import matplotlib.pyplot as plt\n",
    "import seaborn as sns\n",
    "%matplotlib inline\n",
    "\n",
    "from sklearn.metrics import accuracy_score, precision_score, recall_score, f1_score\n",
    "\n",
    "def measure_error(y_true, y_pred, label):\n",
    "    return pd.Series({'accuracy':accuracy_score(y_true, y_pred),\n",
    "                      'precision': precision_score(y_true, y_pred),\n",
    "                      'recall': recall_score(y_true, y_pred),\n",
    "                      'f1': f1_score(y_true, y_pred)},\n",
    "                      name=label)"
   ]
  },
  {
   "cell_type": "code",
   "execution_count": 2,
   "metadata": {},
   "outputs": [
    {
     "data": {
      "text/html": [
       "<div>\n",
       "<style scoped>\n",
       "    .dataframe tbody tr th:only-of-type {\n",
       "        vertical-align: middle;\n",
       "    }\n",
       "\n",
       "    .dataframe tbody tr th {\n",
       "        vertical-align: top;\n",
       "    }\n",
       "\n",
       "    .dataframe thead th {\n",
       "        text-align: right;\n",
       "    }\n",
       "</style>\n",
       "<table border=\"1\" class=\"dataframe\">\n",
       "  <thead>\n",
       "    <tr style=\"text-align: right;\">\n",
       "      <th></th>\n",
       "      <th>x1</th>\n",
       "      <th>x2</th>\n",
       "      <th>y</th>\n",
       "    </tr>\n",
       "  </thead>\n",
       "  <tbody>\n",
       "    <tr>\n",
       "      <th>0</th>\n",
       "      <td>-119.366669</td>\n",
       "      <td>115.000000</td>\n",
       "      <td>1</td>\n",
       "    </tr>\n",
       "    <tr>\n",
       "      <th>1</th>\n",
       "      <td>-101.108044</td>\n",
       "      <td>97.777159</td>\n",
       "      <td>1</td>\n",
       "    </tr>\n",
       "    <tr>\n",
       "      <th>2</th>\n",
       "      <td>-130.278658</td>\n",
       "      <td>106.767654</td>\n",
       "      <td>1</td>\n",
       "    </tr>\n",
       "    <tr>\n",
       "      <th>3</th>\n",
       "      <td>-114.703415</td>\n",
       "      <td>101.195477</td>\n",
       "      <td>1</td>\n",
       "    </tr>\n",
       "    <tr>\n",
       "      <th>4</th>\n",
       "      <td>-119.366669</td>\n",
       "      <td>115.000000</td>\n",
       "      <td>1</td>\n",
       "    </tr>\n",
       "    <tr>\n",
       "      <th>...</th>\n",
       "      <td>...</td>\n",
       "      <td>...</td>\n",
       "      <td>...</td>\n",
       "    </tr>\n",
       "    <tr>\n",
       "      <th>2222</th>\n",
       "      <td>98.714112</td>\n",
       "      <td>89.643117</td>\n",
       "      <td>0</td>\n",
       "    </tr>\n",
       "    <tr>\n",
       "      <th>2223</th>\n",
       "      <td>96.633331</td>\n",
       "      <td>91.000000</td>\n",
       "      <td>0</td>\n",
       "    </tr>\n",
       "    <tr>\n",
       "      <th>2224</th>\n",
       "      <td>85.673940</td>\n",
       "      <td>103.839270</td>\n",
       "      <td>0</td>\n",
       "    </tr>\n",
       "    <tr>\n",
       "      <th>2225</th>\n",
       "      <td>78.958862</td>\n",
       "      <td>78.605371</td>\n",
       "      <td>0</td>\n",
       "    </tr>\n",
       "    <tr>\n",
       "      <th>2226</th>\n",
       "      <td>109.624009</td>\n",
       "      <td>99.000000</td>\n",
       "      <td>0</td>\n",
       "    </tr>\n",
       "  </tbody>\n",
       "</table>\n",
       "<p>2227 rows × 3 columns</p>\n",
       "</div>"
      ],
      "text/plain": [
       "              x1          x2  y\n",
       "0    -119.366669  115.000000  1\n",
       "1    -101.108044   97.777159  1\n",
       "2    -130.278658  106.767654  1\n",
       "3    -114.703415  101.195477  1\n",
       "4    -119.366669  115.000000  1\n",
       "...          ...         ... ..\n",
       "2222   98.714112   89.643117  0\n",
       "2223   96.633331   91.000000  0\n",
       "2224   85.673940  103.839270  0\n",
       "2225   78.958862   78.605371  0\n",
       "2226  109.624009   99.000000  0\n",
       "\n",
       "[2227 rows x 3 columns]"
      ]
     },
     "execution_count": 2,
     "metadata": {},
     "output_type": "execute_result"
    }
   ],
   "source": [
    "df= pd.read_csv('data.csv')\n",
    "df"
   ]
  },
  {
   "cell_type": "code",
   "execution_count": 3,
   "metadata": {},
   "outputs": [
    {
     "data": {
      "text/html": [
       "<div>\n",
       "<style scoped>\n",
       "    .dataframe tbody tr th:only-of-type {\n",
       "        vertical-align: middle;\n",
       "    }\n",
       "\n",
       "    .dataframe tbody tr th {\n",
       "        vertical-align: top;\n",
       "    }\n",
       "\n",
       "    .dataframe thead th {\n",
       "        text-align: right;\n",
       "    }\n",
       "</style>\n",
       "<table border=\"1\" class=\"dataframe\">\n",
       "  <thead>\n",
       "    <tr style=\"text-align: right;\">\n",
       "      <th></th>\n",
       "      <th>x1</th>\n",
       "      <th>x2</th>\n",
       "      <th>y</th>\n",
       "    </tr>\n",
       "  </thead>\n",
       "  <tbody>\n",
       "    <tr>\n",
       "      <th>x1</th>\n",
       "      <td>1.000000</td>\n",
       "      <td>0.112683</td>\n",
       "      <td>-0.121294</td>\n",
       "    </tr>\n",
       "    <tr>\n",
       "      <th>x2</th>\n",
       "      <td>0.112683</td>\n",
       "      <td>1.000000</td>\n",
       "      <td>0.061546</td>\n",
       "    </tr>\n",
       "    <tr>\n",
       "      <th>y</th>\n",
       "      <td>-0.121294</td>\n",
       "      <td>0.061546</td>\n",
       "      <td>1.000000</td>\n",
       "    </tr>\n",
       "  </tbody>\n",
       "</table>\n",
       "</div>"
      ],
      "text/plain": [
       "          x1        x2         y\n",
       "x1  1.000000  0.112683 -0.121294\n",
       "x2  0.112683  1.000000  0.061546\n",
       "y  -0.121294  0.061546  1.000000"
      ]
     },
     "execution_count": 3,
     "metadata": {},
     "output_type": "execute_result"
    }
   ],
   "source": [
    "df.corr()"
   ]
  },
  {
   "cell_type": "code",
   "execution_count": 4,
   "metadata": {},
   "outputs": [
    {
     "name": "stdout",
     "output_type": "stream",
     "text": [
      "<class 'pandas.core.frame.DataFrame'>\n",
      "RangeIndex: 2227 entries, 0 to 2226\n",
      "Data columns (total 3 columns):\n",
      " #   Column  Non-Null Count  Dtype  \n",
      "---  ------  --------------  -----  \n",
      " 0   x1      2227 non-null   float64\n",
      " 1   x2      2227 non-null   float64\n",
      " 2   y       2227 non-null   int64  \n",
      "dtypes: float64(2), int64(1)\n",
      "memory usage: 52.3 KB\n"
     ]
    }
   ],
   "source": [
    "df.info()"
   ]
  },
  {
   "cell_type": "code",
   "execution_count": 5,
   "metadata": {},
   "outputs": [
    {
     "data": {
      "text/plain": [
       "<matplotlib.axes._subplots.AxesSubplot at 0x29fdd328c70>"
      ]
     },
     "execution_count": 5,
     "metadata": {},
     "output_type": "execute_result"
    },
    {
     "data": {
      "image/png": "[encoded data removed]",
      "text/plain": [
       "<Figure size 432x288 with 1 Axes>"
      ]
     },
     "metadata": {
      "needs_background": "light"
     },
     "output_type": "display_data"
    }
   ],
   "source": [
    "df.plot()"
   ]
  },
  {
   "cell_type": "code",
   "execution_count": 6,
   "metadata": {},
   "outputs": [
    {
     "data": {
      "image/png": "[encoded data removed]",
      "text/plain": [
       "<Figure size 432x288 with 1 Axes>"
      ]
     },
     "metadata": {
      "needs_background": "light"
     },
     "output_type": "display_data"
    }
   ],
   "source": [
    "df.plot.hist(alpha=0.7);"
   ]
  },
  {
   "cell_type": "code",
   "execution_count": 7,
   "metadata": {},
   "outputs": [
    {
     "data": {
      "text/plain": [
       "(array([182., 276., 284., 236., 192., 157., 288., 250., 209., 153.]),\n",
       " array([-1.34369160e+02, -1.07481376e+02, -8.05935909e+01, -5.37058061e+01,\n",
       "        -2.68180213e+01,  6.97634500e-02,  2.69575482e+01,  5.38453330e+01,\n",
       "         8.07331178e+01,  1.07620903e+02,  1.34508687e+02]),\n",
       " <a list of 10 Patch objects>)"
      ]
     },
     "execution_count": 7,
     "metadata": {},
     "output_type": "execute_result"
    },
    {
     "data": {
      "image/png": "[encoded data removed]",
      "text/plain": [
       "<Figure size 432x288 with 1 Axes>"
      ]
     },
     "metadata": {
      "needs_background": "light"
     },
     "output_type": "display_data"
    }
   ],
   "source": [
    "plt.hist(df['x1'], bins= 10)"
   ]
  },
  {
   "cell_type": "code",
   "execution_count": 8,
   "metadata": {},
   "outputs": [
    {
     "data": {
      "text/plain": [
       "(array([304., 247., 259., 167., 147., 190., 261., 260., 245., 147.]),\n",
       " array([-1.34876132e+02, -1.07895544e+02, -8.09149561e+01, -5.39343681e+01,\n",
       "        -2.69537801e+01,  2.68079000e-02,  2.70073959e+01,  5.39879839e+01,\n",
       "         8.09685719e+01,  1.07949160e+02,  1.34929748e+02]),\n",
       " <a list of 10 Patch objects>)"
      ]
     },
     "execution_count": 8,
     "metadata": {},
     "output_type": "execute_result"
    },
    {
     "data": {
      "image/png": "[encoded data removed]",
      "text/plain": [
       "<Figure size 432x288 with 1 Axes>"
      ]
     },
     "metadata": {
      "needs_background": "light"
     },
     "output_type": "display_data"
    }
   ],
   "source": [
    "plt.hist(df['x2'], bins = 10)"
   ]
  },
  {
   "cell_type": "code",
   "execution_count": 9,
   "metadata": {},
   "outputs": [],
   "source": [
    "X = df[['x1', 'x2']].values\n",
    "y = df.y.values\n",
    "\n",
    "from sklearn.model_selection import train_test_split\n",
    "X_train, X_test, y_train, y_test = train_test_split(X, y, test_size = 0.25, random_state = 0)\n",
    "\n",
    "from sklearn.preprocessing import StandardScaler\n",
    "sc = StandardScaler()\n",
    "X_train = sc.fit_transform(X_train)\n",
    "X_test = sc.transform(X_test)"
   ]
  },
  {
   "cell_type": "markdown",
   "metadata": {},
   "source": [
    "### Logistic Regression with Parameter Tuning"
   ]
  },
  {
   "cell_type": "code",
   "execution_count": 10,
   "metadata": {
    "collapsed": true
   },
   "outputs": [
    {
     "name": "stdout",
     "output_type": "stream",
     "text": [
      "this_C = 0, Accuracy of Logistic regression classifier on training set: 0.73\n",
      "this_C = 0, Accuracy of Logistic regression classifier on test set: 0.71\n",
      "this_C = 0, Accuracy of Logistic regression classifier on training set: 0.73\n",
      "this_C = 0, Accuracy of Logistic regression classifier on test set: 0.71\n",
      "this_C = 0, Accuracy of Logistic regression classifier on training set: 0.73\n",
      "this_C = 0, Accuracy of Logistic regression classifier on test set: 0.72\n",
      "this_C = 0, Accuracy of Logistic regression classifier on training set: 0.74\n",
      "this_C = 0, Accuracy of Logistic regression classifier on test set: 0.73\n",
      "this_C = 1, Accuracy of Logistic regression classifier on training set: 0.74\n",
      "this_C = 1, Accuracy of Logistic regression classifier on test set: 0.73\n",
      "this_C = 10, Accuracy of Logistic regression classifier on training set: 0.74\n",
      "this_C = 10, Accuracy of Logistic regression classifier on test set: 0.73\n",
      "this_C = 100, Accuracy of Logistic regression classifier on training set: 0.74\n",
      "this_C = 100, Accuracy of Logistic regression classifier on test set: 0.73\n",
      "this_C = 1000, Accuracy of Logistic regression classifier on training set: 0.74\n",
      "this_C = 1000, Accuracy of Logistic regression classifier on test set: 0.73\n"
     ]
    }
   ],
   "source": [
    "from sklearn.linear_model import LogisticRegression\n",
    "for this_C in ([0.00001, 0.0001, 0.001, 0.1, 1, 10, 100, 1000]):\n",
    "    classifier = LogisticRegression(C = this_C, penalty='l2', solver='liblinear', random_state = 0).fit(X_train, y_train)\n",
    "    print('this_C = {:.0f}, Accuracy of Logistic regression classifier on training set: {:.2f}'\n",
    "         .format(this_C, classifier.score(X_train, y_train)))\n",
    "    print('this_C = {:.0f}, Accuracy of Logistic regression classifier on test set: {:.2f}'\n",
    "         .format(this_C, classifier.score(X_test, y_test)))"
   ]
  },
  {
   "cell_type": "markdown",
   "metadata": {},
   "source": [
    "##### Best logistic Regression model"
   ]
  },
  {
   "cell_type": "code",
   "execution_count": 11,
   "metadata": {},
   "outputs": [
    {
     "name": "stdout",
     "output_type": "stream",
     "text": [
      "this_C = 100, Accuracy of Logistic regression classifier on training set: 0.74\n",
      "this_C = 100, Accuracy of Logistic regression classifier on test set: 0.73\n"
     ]
    }
   ],
   "source": [
    "from sklearn.linear_model import LogisticRegression\n",
    "for this_C in ([100]):\n",
    "    classifier = LogisticRegression(C = this_C, penalty='l2', solver='liblinear', random_state = 0).fit(X_train, y_train)\n",
    "    print('this_C = {:.0f}, Accuracy of Logistic regression classifier on training set: {:.2f}'\n",
    "         .format(this_C, classifier.score(X_train, y_train)))\n",
    "    print('this_C = {:.0f}, Accuracy of Logistic regression classifier on test set: {:.2f}'\n",
    "         .format(this_C, classifier.score(X_test, y_test)))"
   ]
  },
  {
   "cell_type": "code",
   "execution_count": 12,
   "metadata": {},
   "outputs": [
    {
     "name": "stderr",
     "output_type": "stream",
     "text": [
      "*c* argument looks like a single numeric RGB or RGBA sequence, which should be avoided as value-mapping will have precedence in case its length matches with *x* & *y*.  Please use the *color* keyword-argument or provide a 2-D array with a single row if you intend to specify the same RGB or RGBA value for all points.\n",
      "*c* argument looks like a single numeric RGB or RGBA sequence, which should be avoided as value-mapping will have precedence in case its length matches with *x* & *y*.  Please use the *color* keyword-argument or provide a 2-D array with a single row if you intend to specify the same RGB or RGBA value for all points.\n"
     ]
    },
    {
     "data": {
      "image/png": "[encoded data removed]",
      "text/plain": [
       "<Figure size 432x288 with 1 Axes>"
      ]
     },
     "metadata": {
      "needs_background": "light"
     },
     "output_type": "display_data"
    }
   ],
   "source": [
    "# Visualising the Test set results\n",
    "from matplotlib.colors import ListedColormap\n",
    "X_set, y_set = X_test, y_test\n",
    "X1, X2 = np.meshgrid(np.arange(start = X_set[:, 0].min() - 1, stop = X_set[:, 0].max() + 1, step = 0.01),\n",
    "                     np.arange(start = X_set[:, 1].min() - 1, stop = X_set[:, 1].max() + 1, step = 0.01))\n",
    "plt.contourf(X1, X2, classifier.predict(np.array([X1.ravel(), X2.ravel()]).T).reshape(X1.shape),\n",
    "             alpha = 0.75, cmap = ListedColormap(('red', 'green')))\n",
    "plt.xlim(X1.min(), X1.max())\n",
    "plt.ylim(X2.min(), X2.max())\n",
    "for i, j in enumerate(np.unique(y_set)):\n",
    "    plt.scatter(X_set[y_set == j, 0], X_set[y_set == j, 1],\n",
    "                c = ListedColormap(('red', 'green'))(i), label = j)\n",
    "plt.title('Classifier (Test set)')\n",
    "plt.xlabel('X1')\n",
    "plt.ylabel('X2')\n",
    "plt.legend()\n",
    "plt.show()"
   ]
  },
  {
   "cell_type": "code",
   "execution_count": 13,
   "metadata": {},
   "outputs": [
    {
     "data": {
      "text/html": [
       "<div>\n",
       "<style scoped>\n",
       "    .dataframe tbody tr th:only-of-type {\n",
       "        vertical-align: middle;\n",
       "    }\n",
       "\n",
       "    .dataframe tbody tr th {\n",
       "        vertical-align: top;\n",
       "    }\n",
       "\n",
       "    .dataframe thead th {\n",
       "        text-align: right;\n",
       "    }\n",
       "</style>\n",
       "<table border=\"1\" class=\"dataframe\">\n",
       "  <thead>\n",
       "    <tr style=\"text-align: right;\">\n",
       "      <th></th>\n",
       "      <th>train</th>\n",
       "      <th>test</th>\n",
       "    </tr>\n",
       "  </thead>\n",
       "  <tbody>\n",
       "    <tr>\n",
       "      <th>accuracy</th>\n",
       "      <td>0.742515</td>\n",
       "      <td>0.725314</td>\n",
       "    </tr>\n",
       "    <tr>\n",
       "      <th>precision</th>\n",
       "      <td>0.980769</td>\n",
       "      <td>0.981132</td>\n",
       "    </tr>\n",
       "    <tr>\n",
       "      <th>recall</th>\n",
       "      <td>0.419178</td>\n",
       "      <td>0.407843</td>\n",
       "    </tr>\n",
       "    <tr>\n",
       "      <th>f1</th>\n",
       "      <td>0.587332</td>\n",
       "      <td>0.576177</td>\n",
       "    </tr>\n",
       "  </tbody>\n",
       "</table>\n",
       "</div>"
      ],
      "text/plain": [
       "              train      test\n",
       "accuracy   0.742515  0.725314\n",
       "precision  0.980769  0.981132\n",
       "recall     0.419178  0.407843\n",
       "f1         0.587332  0.576177"
      ]
     },
     "execution_count": 13,
     "metadata": {},
     "output_type": "execute_result"
    }
   ],
   "source": [
    "y_train_pred = classifier.predict(X_train)\n",
    "y_test_pred = classifier.predict(X_test)\n",
    "\n",
    "train_test_full_error = pd.concat([measure_error(y_train, y_train_pred, 'train'),\n",
    "                              measure_error(y_test, y_test_pred, 'test')],\n",
    "                              axis=1)\n",
    "\n",
    "train_test_full_error"
   ]
  },
  {
   "cell_type": "code",
   "execution_count": 14,
   "metadata": {},
   "outputs": [
    {
     "name": "stdout",
     "output_type": "stream",
     "text": [
      "[[300   2]\n",
      " [151 104]]\n"
     ]
    }
   ],
   "source": [
    "y_pred = classifier.predict(X_test)\n",
    "from sklearn.metrics import confusion_matrix, accuracy_score\n",
    "cm = confusion_matrix(y_test, y_pred)\n",
    "print(cm)"
   ]
  },
  {
   "cell_type": "code",
   "execution_count": 15,
   "metadata": {},
   "outputs": [
    {
     "name": "stdout",
     "output_type": "stream",
     "text": [
      "[0]\n"
     ]
    }
   ],
   "source": [
    "print(classifier.predict(sc.transform([[35,116]])))"
   ]
  },
  {
   "cell_type": "markdown",
   "metadata": {},
   "source": [
    "### SVM linear and RBF Kernel"
   ]
  },
  {
   "cell_type": "code",
   "execution_count": 16,
   "metadata": {
    "collapsed": true
   },
   "outputs": [
    {
     "name": "stdout",
     "output_type": "stream",
     "text": [
      "C = 0.00100, Accuracy of Logistic regression classifier on training set: 0.56\n",
      "C = 0.00100, Accuracy of Logistic regression classifier on test set: 0.54\n",
      "C = 0.00100, Accuracy of Logistic regression classifier on training set: 0.56\n",
      "C = 0.00100, Accuracy of Logistic regression classifier on test set: 0.54\n",
      "C = 0.00100, Accuracy of Logistic regression classifier on training set: 0.56\n",
      "C = 0.00100, Accuracy of Logistic regression classifier on test set: 0.54\n",
      "C = 0.00100, Accuracy of Logistic regression classifier on training set: 0.56\n",
      "C = 0.00100, Accuracy of Logistic regression classifier on test set: 0.54\n",
      "C = 0.01000, Accuracy of Logistic regression classifier on training set: 0.73\n",
      "C = 0.01000, Accuracy of Logistic regression classifier on test set: 0.71\n",
      "C = 0.01000, Accuracy of Logistic regression classifier on training set: 0.73\n",
      "C = 0.01000, Accuracy of Logistic regression classifier on test set: 0.71\n",
      "C = 0.01000, Accuracy of Logistic regression classifier on training set: 0.73\n",
      "C = 0.01000, Accuracy of Logistic regression classifier on test set: 0.71\n",
      "C = 0.01000, Accuracy of Logistic regression classifier on training set: 0.73\n",
      "C = 0.01000, Accuracy of Logistic regression classifier on test set: 0.71\n",
      "C = 0.10000, Accuracy of Logistic regression classifier on training set: 0.73\n",
      "C = 0.10000, Accuracy of Logistic regression classifier on test set: 0.72\n",
      "C = 0.10000, Accuracy of Logistic regression classifier on training set: 0.73\n",
      "C = 0.10000, Accuracy of Logistic regression classifier on test set: 0.72\n",
      "C = 0.10000, Accuracy of Logistic regression classifier on training set: 0.73\n",
      "C = 0.10000, Accuracy of Logistic regression classifier on test set: 0.72\n",
      "C = 0.10000, Accuracy of Logistic regression classifier on training set: 0.73\n",
      "C = 0.10000, Accuracy of Logistic regression classifier on test set: 0.72\n",
      "C = 1.00000, Accuracy of Logistic regression classifier on training set: 0.73\n",
      "C = 1.00000, Accuracy of Logistic regression classifier on test set: 0.72\n",
      "C = 1.00000, Accuracy of Logistic regression classifier on training set: 0.73\n",
      "C = 1.00000, Accuracy of Logistic regression classifier on test set: 0.72\n",
      "C = 1.00000, Accuracy of Logistic regression classifier on training set: 0.73\n",
      "C = 1.00000, Accuracy of Logistic regression classifier on test set: 0.72\n",
      "C = 1.00000, Accuracy of Logistic regression classifier on training set: 0.73\n",
      "C = 1.00000, Accuracy of Logistic regression classifier on test set: 0.72\n",
      "C = 10.00000, Accuracy of Logistic regression classifier on training set: 0.73\n",
      "C = 10.00000, Accuracy of Logistic regression classifier on test set: 0.72\n",
      "C = 10.00000, Accuracy of Logistic regression classifier on training set: 0.73\n",
      "C = 10.00000, Accuracy of Logistic regression classifier on test set: 0.72\n",
      "C = 10.00000, Accuracy of Logistic regression classifier on training set: 0.73\n",
      "C = 10.00000, Accuracy of Logistic regression classifier on test set: 0.72\n",
      "C = 10.00000, Accuracy of Logistic regression classifier on training set: 0.73\n",
      "C = 10.00000, Accuracy of Logistic regression classifier on test set: 0.72\n",
      "C = 100.00000, Accuracy of Logistic regression classifier on training set: 0.73\n",
      "C = 100.00000, Accuracy of Logistic regression classifier on test set: 0.72\n",
      "C = 100.00000, Accuracy of Logistic regression classifier on training set: 0.73\n",
      "C = 100.00000, Accuracy of Logistic regression classifier on test set: 0.72\n",
      "C = 100.00000, Accuracy of Logistic regression classifier on training set: 0.73\n",
      "C = 100.00000, Accuracy of Logistic regression classifier on test set: 0.72\n",
      "C = 100.00000, Accuracy of Logistic regression classifier on training set: 0.73\n",
      "C = 100.00000, Accuracy of Logistic regression classifier on test set: 0.72\n"
     ]
    }
   ],
   "source": [
    "from sklearn.svm import SVC\n",
    "for this_C in ([0.001, 0.01, 0.1, 1, 10, 100]):\n",
    "    for gamma in([.5, 1, 2 ,10]): \n",
    "        classifier = SVC(C = this_C, random_state = 0, gamma = gamma, kernel = 'linear').fit(X_train, y_train)\n",
    "        print('C = {:.5f}, Accuracy of Logistic regression classifier on training set: {:.2f}'\n",
    "         .format(this_C, classifier.score(X_train, y_train)))\n",
    "        print('C = {:.5f}, Accuracy of Logistic regression classifier on test set: {:.2f}'\n",
    "         .format(this_C, classifier.score(X_test, y_test)))"
   ]
  },
  {
   "cell_type": "code",
   "execution_count": 17,
   "metadata": {
    "collapsed": true
   },
   "outputs": [
    {
     "name": "stdout",
     "output_type": "stream",
     "text": [
      "C = 0.00100, Accuracy of Logistic regression classifier on training set: 0.56\n",
      "C = 0.00100, Accuracy of Logistic regression classifier on test set: 0.54\n",
      "C = 0.00100, Accuracy of Logistic regression classifier on training set: 0.56\n",
      "C = 0.00100, Accuracy of Logistic regression classifier on test set: 0.54\n",
      "C = 0.00100, Accuracy of Logistic regression classifier on training set: 0.56\n",
      "C = 0.00100, Accuracy of Logistic regression classifier on test set: 0.54\n",
      "C = 0.00100, Accuracy of Logistic regression classifier on training set: 0.56\n",
      "C = 0.00100, Accuracy of Logistic regression classifier on test set: 0.54\n",
      "C = 0.01000, Accuracy of Logistic regression classifier on training set: 0.91\n",
      "C = 0.01000, Accuracy of Logistic regression classifier on test set: 0.92\n",
      "C = 0.01000, Accuracy of Logistic regression classifier on training set: 0.93\n",
      "C = 0.01000, Accuracy of Logistic regression classifier on test set: 0.92\n",
      "C = 0.01000, Accuracy of Logistic regression classifier on training set: 0.94\n",
      "C = 0.01000, Accuracy of Logistic regression classifier on test set: 0.94\n",
      "C = 0.01000, Accuracy of Logistic regression classifier on training set: 0.83\n",
      "C = 0.01000, Accuracy of Logistic regression classifier on test set: 0.82\n",
      "C = 0.10000, Accuracy of Logistic regression classifier on training set: 0.93\n",
      "C = 0.10000, Accuracy of Logistic regression classifier on test set: 0.94\n",
      "C = 0.10000, Accuracy of Logistic regression classifier on training set: 0.94\n",
      "C = 0.10000, Accuracy of Logistic regression classifier on test set: 0.95\n",
      "C = 0.10000, Accuracy of Logistic regression classifier on training set: 0.95\n",
      "C = 0.10000, Accuracy of Logistic regression classifier on test set: 0.96\n",
      "C = 0.10000, Accuracy of Logistic regression classifier on training set: 0.95\n",
      "C = 0.10000, Accuracy of Logistic regression classifier on test set: 0.96\n",
      "C = 1.00000, Accuracy of Logistic regression classifier on training set: 0.95\n",
      "C = 1.00000, Accuracy of Logistic regression classifier on test set: 0.96\n",
      "C = 1.00000, Accuracy of Logistic regression classifier on training set: 0.95\n",
      "C = 1.00000, Accuracy of Logistic regression classifier on test set: 0.96\n",
      "C = 1.00000, Accuracy of Logistic regression classifier on training set: 0.95\n",
      "C = 1.00000, Accuracy of Logistic regression classifier on test set: 0.96\n",
      "C = 1.00000, Accuracy of Logistic regression classifier on training set: 0.95\n",
      "C = 1.00000, Accuracy of Logistic regression classifier on test set: 0.96\n",
      "C = 10.00000, Accuracy of Logistic regression classifier on training set: 0.95\n",
      "C = 10.00000, Accuracy of Logistic regression classifier on test set: 0.96\n",
      "C = 10.00000, Accuracy of Logistic regression classifier on training set: 0.95\n",
      "C = 10.00000, Accuracy of Logistic regression classifier on test set: 0.96\n",
      "C = 10.00000, Accuracy of Logistic regression classifier on training set: 0.95\n",
      "C = 10.00000, Accuracy of Logistic regression classifier on test set: 0.96\n",
      "C = 10.00000, Accuracy of Logistic regression classifier on training set: 0.95\n",
      "C = 10.00000, Accuracy of Logistic regression classifier on test set: 0.96\n",
      "C = 100.00000, Accuracy of Logistic regression classifier on training set: 0.95\n",
      "C = 100.00000, Accuracy of Logistic regression classifier on test set: 0.96\n",
      "C = 100.00000, Accuracy of Logistic regression classifier on training set: 0.95\n",
      "C = 100.00000, Accuracy of Logistic regression classifier on test set: 0.96\n",
      "C = 100.00000, Accuracy of Logistic regression classifier on training set: 0.95\n",
      "C = 100.00000, Accuracy of Logistic regression classifier on test set: 0.95\n",
      "C = 100.00000, Accuracy of Logistic regression classifier on training set: 0.96\n",
      "C = 100.00000, Accuracy of Logistic regression classifier on test set: 0.96\n"
     ]
    }
   ],
   "source": [
    "from sklearn.svm import SVC\n",
    "for this_C in ([0.001, 0.01, 0.1, 1, 10, 100]):\n",
    "    for gamma in([.5, 1, 2 ,10]): \n",
    "        classifier = SVC(C = this_C, random_state = 0, gamma = gamma, kernel = 'rbf').fit(X_train, y_train)\n",
    "        print('C = {:.5f}, Accuracy of Logistic regression classifier on training set: {:.2f}'\n",
    "         .format(this_C, classifier.score(X_train, y_train)))\n",
    "        print('C = {:.5f}, Accuracy of Logistic regression classifier on test set: {:.2f}'\n",
    "         .format(this_C, classifier.score(X_test, y_test)))"
   ]
  },
  {
   "cell_type": "markdown",
   "metadata": {},
   "source": [
    "###### Best SVM model"
   ]
  },
  {
   "cell_type": "code",
   "execution_count": 18,
   "metadata": {},
   "outputs": [
    {
     "name": "stdout",
     "output_type": "stream",
     "text": [
      "C = 100.00000, Accuracy of Logistic regression classifier on training set: 0.96\n",
      "C = 100.00000, Accuracy of Logistic regression classifier on test set: 0.96\n"
     ]
    }
   ],
   "source": [
    "from sklearn.svm import SVC\n",
    "for this_C in ([100]):\n",
    "    for gamma in([10]): \n",
    "        classifier = SVC(C = this_C, random_state = 0, gamma = gamma, kernel = 'rbf').fit(X_train, y_train)\n",
    "        print('C = {:.5f}, Accuracy of Logistic regression classifier on training set: {:.2f}'\n",
    "         .format(this_C, classifier.score(X_train, y_train)))\n",
    "        print('C = {:.5f}, Accuracy of Logistic regression classifier on test set: {:.2f}'\n",
    "         .format(this_C, classifier.score(X_test, y_test)))"
   ]
  },
  {
   "cell_type": "code",
   "execution_count": 19,
   "metadata": {},
   "outputs": [
    {
     "name": "stderr",
     "output_type": "stream",
     "text": [
      "*c* argument looks like a single numeric RGB or RGBA sequence, which should be avoided as value-mapping will have precedence in case its length matches with *x* & *y*.  Please use the *color* keyword-argument or provide a 2-D array with a single row if you intend to specify the same RGB or RGBA value for all points.\n",
      "*c* argument looks like a single numeric RGB or RGBA sequence, which should be avoided as value-mapping will have precedence in case its length matches with *x* & *y*.  Please use the *color* keyword-argument or provide a 2-D array with a single row if you intend to specify the same RGB or RGBA value for all points.\n"
     ]
    },
    {
     "data": {
      "image/png": "[encoded data removed]",
      "text/plain": [
       "<Figure size 432x288 with 1 Axes>"
      ]
     },
     "metadata": {
      "needs_background": "light"
     },
     "output_type": "display_data"
    }
   ],
   "source": [
    "# Visualising the Test set results\n",
    "from matplotlib.colors import ListedColormap\n",
    "X_set, y_set = X_test, y_test\n",
    "X1, X2 = np.meshgrid(np.arange(start = X_set[:, 0].min() - 1, stop = X_set[:, 0].max() + 1, step = 0.01),\n",
    "                     np.arange(start = X_set[:, 1].min() - 1, stop = X_set[:, 1].max() + 1, step = 0.01))\n",
    "plt.contourf(X1, X2, classifier.predict(np.array([X1.ravel(), X2.ravel()]).T).reshape(X1.shape),\n",
    "             alpha = 0.75, cmap = ListedColormap(('red', 'green')))\n",
    "plt.xlim(X1.min(), X1.max())\n",
    "plt.ylim(X2.min(), X2.max())\n",
    "for i, j in enumerate(np.unique(y_set)):\n",
    "    plt.scatter(X_set[y_set == j, 0], X_set[y_set == j, 1],\n",
    "                c = ListedColormap(('red', 'green'))(i), label = j)\n",
    "plt.title('Classifier (Test set)')\n",
    "plt.xlabel('X1')\n",
    "plt.ylabel('X2')\n",
    "plt.legend()\n",
    "plt.show()"
   ]
  },
  {
   "cell_type": "code",
   "execution_count": 20,
   "metadata": {},
   "outputs": [
    {
     "data": {
      "text/html": [
       "<div>\n",
       "<style scoped>\n",
       "    .dataframe tbody tr th:only-of-type {\n",
       "        vertical-align: middle;\n",
       "    }\n",
       "\n",
       "    .dataframe tbody tr th {\n",
       "        vertical-align: top;\n",
       "    }\n",
       "\n",
       "    .dataframe thead th {\n",
       "        text-align: right;\n",
       "    }\n",
       "</style>\n",
       "<table border=\"1\" class=\"dataframe\">\n",
       "  <thead>\n",
       "    <tr style=\"text-align: right;\">\n",
       "      <th></th>\n",
       "      <th>train</th>\n",
       "      <th>test</th>\n",
       "    </tr>\n",
       "  </thead>\n",
       "  <tbody>\n",
       "    <tr>\n",
       "      <th>accuracy</th>\n",
       "      <td>0.956886</td>\n",
       "      <td>0.955117</td>\n",
       "    </tr>\n",
       "    <tr>\n",
       "      <th>precision</th>\n",
       "      <td>0.948229</td>\n",
       "      <td>0.956349</td>\n",
       "    </tr>\n",
       "    <tr>\n",
       "      <th>recall</th>\n",
       "      <td>0.953425</td>\n",
       "      <td>0.945098</td>\n",
       "    </tr>\n",
       "    <tr>\n",
       "      <th>f1</th>\n",
       "      <td>0.950820</td>\n",
       "      <td>0.950690</td>\n",
       "    </tr>\n",
       "  </tbody>\n",
       "</table>\n",
       "</div>"
      ],
      "text/plain": [
       "              train      test\n",
       "accuracy   0.956886  0.955117\n",
       "precision  0.948229  0.956349\n",
       "recall     0.953425  0.945098\n",
       "f1         0.950820  0.950690"
      ]
     },
     "execution_count": 20,
     "metadata": {},
     "output_type": "execute_result"
    }
   ],
   "source": [
    "y_train_pred = classifier.predict(X_train)\n",
    "y_test_pred = classifier.predict(X_test)\n",
    "\n",
    "train_test_full_error = pd.concat([measure_error(y_train, y_train_pred, 'train'),\n",
    "                              measure_error(y_test, y_test_pred, 'test')],\n",
    "                              axis=1)\n",
    "\n",
    "train_test_full_error"
   ]
  },
  {
   "cell_type": "code",
   "execution_count": 21,
   "metadata": {},
   "outputs": [
    {
     "name": "stdout",
     "output_type": "stream",
     "text": [
      "[[291  11]\n",
      " [ 14 241]]\n"
     ]
    }
   ],
   "source": [
    "y_pred = classifier.predict(X_test)\n",
    "from sklearn.metrics import confusion_matrix, accuracy_score\n",
    "cm = confusion_matrix(y_test, y_pred)\n",
    "print(cm)"
   ]
  },
  {
   "cell_type": "code",
   "execution_count": 22,
   "metadata": {},
   "outputs": [
    {
     "name": "stdout",
     "output_type": "stream",
     "text": [
      "[0]\n"
     ]
    }
   ],
   "source": [
    "print(classifier.predict(sc.transform([[35,116]])))"
   ]
  },
  {
   "cell_type": "markdown",
   "metadata": {},
   "source": [
    "### Decision Tree"
   ]
  },
  {
   "cell_type": "code",
   "execution_count": 23,
   "metadata": {},
   "outputs": [],
   "source": [
    "from sklearn.tree import DecisionTreeClassifier\n",
    "\n",
    "dt = DecisionTreeClassifier(random_state=0)\n",
    "dt = dt.fit(X_train, y_train)"
   ]
  },
  {
   "cell_type": "code",
   "execution_count": 24,
   "metadata": {},
   "outputs": [
    {
     "data": {
      "text/plain": [
       "(81, 7)"
      ]
     },
     "execution_count": 24,
     "metadata": {},
     "output_type": "execute_result"
    }
   ],
   "source": [
    "from sklearn.model_selection import GridSearchCV\n",
    "\n",
    "param_grid = {'max_depth':range(1, dt.tree_.max_depth+1, 2),\n",
    "              'max_features': range(1, len(dt.feature_importances_)+1)}\n",
    "\n",
    "GR = GridSearchCV(DecisionTreeClassifier(random_state=0),\n",
    "                  param_grid=param_grid,\n",
    "                  scoring='accuracy',\n",
    "                  n_jobs=-1)\n",
    "\n",
    "GR = GR.fit(X_train, y_train)\n",
    "\n",
    "GR.best_estimator_.tree_.node_count, GR.best_estimator_.tree_.max_depth"
   ]
  },
  {
   "cell_type": "code",
   "execution_count": 25,
   "metadata": {},
   "outputs": [
    {
     "name": "stderr",
     "output_type": "stream",
     "text": [
      "*c* argument looks like a single numeric RGB or RGBA sequence, which should be avoided as value-mapping will have precedence in case its length matches with *x* & *y*.  Please use the *color* keyword-argument or provide a 2-D array with a single row if you intend to specify the same RGB or RGBA value for all points.\n",
      "*c* argument looks like a single numeric RGB or RGBA sequence, which should be avoided as value-mapping will have precedence in case its length matches with *x* & *y*.  Please use the *color* keyword-argument or provide a 2-D array with a single row if you intend to specify the same RGB or RGBA value for all points.\n"
     ]
    },
    {
     "data": {
      "image/png": "[encoded data removed]",
      "text/plain": [
       "<Figure size 432x288 with 1 Axes>"
      ]
     },
     "metadata": {
      "needs_background": "light"
     },
     "output_type": "display_data"
    }
   ],
   "source": [
    "# Visualising the Test set results\n",
    "from matplotlib.colors import ListedColormap\n",
    "X_set, y_set = X_test, y_test\n",
    "X1, X2 = np.meshgrid(np.arange(start = X_set[:, 0].min() - 1, stop = X_set[:, 0].max() + 1, step = 0.01),\n",
    "                     np.arange(start = X_set[:, 1].min() - 1, stop = X_set[:, 1].max() + 1, step = 0.01))\n",
    "plt.contourf(X1, X2, classifier.predict(np.array([X1.ravel(), X2.ravel()]).T).reshape(X1.shape),\n",
    "             alpha = 0.75, cmap = ListedColormap(('red', 'green')))\n",
    "plt.xlim(X1.min(), X1.max())\n",
    "plt.ylim(X2.min(), X2.max())\n",
    "for i, j in enumerate(np.unique(y_set)):\n",
    "    plt.scatter(X_set[y_set == j, 0], X_set[y_set == j, 1],\n",
    "                c = ListedColormap(('red', 'green'))(i), label = j)\n",
    "plt.title('Classifier (Test set)')\n",
    "plt.xlabel('X1')\n",
    "plt.ylabel('X2')\n",
    "plt.legend()\n",
    "plt.show()"
   ]
  },
  {
   "cell_type": "code",
   "execution_count": 26,
   "metadata": {},
   "outputs": [
    {
     "data": {
      "text/html": [
       "<div>\n",
       "<style scoped>\n",
       "    .dataframe tbody tr th:only-of-type {\n",
       "        vertical-align: middle;\n",
       "    }\n",
       "\n",
       "    .dataframe tbody tr th {\n",
       "        vertical-align: top;\n",
       "    }\n",
       "\n",
       "    .dataframe thead th {\n",
       "        text-align: right;\n",
       "    }\n",
       "</style>\n",
       "<table border=\"1\" class=\"dataframe\">\n",
       "  <thead>\n",
       "    <tr style=\"text-align: right;\">\n",
       "      <th></th>\n",
       "      <th>train</th>\n",
       "      <th>test</th>\n",
       "    </tr>\n",
       "  </thead>\n",
       "  <tbody>\n",
       "    <tr>\n",
       "      <th>accuracy</th>\n",
       "      <td>1.0</td>\n",
       "      <td>0.922801</td>\n",
       "    </tr>\n",
       "    <tr>\n",
       "      <th>precision</th>\n",
       "      <td>1.0</td>\n",
       "      <td>0.917323</td>\n",
       "    </tr>\n",
       "    <tr>\n",
       "      <th>recall</th>\n",
       "      <td>1.0</td>\n",
       "      <td>0.913725</td>\n",
       "    </tr>\n",
       "    <tr>\n",
       "      <th>f1</th>\n",
       "      <td>1.0</td>\n",
       "      <td>0.915521</td>\n",
       "    </tr>\n",
       "  </tbody>\n",
       "</table>\n",
       "</div>"
      ],
      "text/plain": [
       "           train      test\n",
       "accuracy     1.0  0.922801\n",
       "precision    1.0  0.917323\n",
       "recall       1.0  0.913725\n",
       "f1           1.0  0.915521"
      ]
     },
     "execution_count": 26,
     "metadata": {},
     "output_type": "execute_result"
    }
   ],
   "source": [
    "y_train_pred = dt.predict(X_train)\n",
    "y_test_pred = dt.predict(X_test)\n",
    "\n",
    "train_test_full_error = pd.concat([measure_error(y_train, y_train_pred, 'train'),\n",
    "                              measure_error(y_test, y_test_pred, 'test')],\n",
    "                              axis=1)\n",
    "\n",
    "train_test_full_error"
   ]
  },
  {
   "cell_type": "markdown",
   "metadata": {},
   "source": [
    "### KNN"
   ]
  },
  {
   "cell_type": "code",
   "execution_count": 27,
   "metadata": {},
   "outputs": [
    {
     "data": {
      "text/plain": [
       "Text(0.5, 1.0, 'K Neighbors Classifier scores for different K values')"
      ]
     },
     "execution_count": 27,
     "metadata": {},
     "output_type": "execute_result"
    },
    {
     "data": {
      "image/png": "[encoded data removed]",
      "text/plain": [
       "<Figure size 432x288 with 1 Axes>"
      ]
     },
     "metadata": {
      "needs_background": "light"
     },
     "output_type": "display_data"
    }
   ],
   "source": [
    "from sklearn.neighbors import KNeighborsClassifier\n",
    "\n",
    "from sklearn.model_selection import cross_val_score\n",
    "knn_scores = []\n",
    "for k in range(1,21):\n",
    "    knn_classifier = KNeighborsClassifier(n_neighbors = k)\n",
    "    score=cross_val_score(knn_classifier,X,y,cv=10)\n",
    "    knn_scores.append(score.mean())\n",
    "    \n",
    "plt.plot([k for k in range(1, 21)], knn_scores, color = 'red')\n",
    "for i in range(1,21):\n",
    "    plt.text(i, knn_scores[i-1], (i, knn_scores[i-1]))\n",
    "plt.xticks([i for i in range(1, 21)])\n",
    "plt.xlabel('Number of Neighbors (K)')\n",
    "plt.ylabel('Scores')\n",
    "plt.title('K Neighbors Classifier scores for different K values')"
   ]
  },
  {
   "cell_type": "code",
   "execution_count": 28,
   "metadata": {},
   "outputs": [
    {
     "data": {
      "text/html": [
       "<div>\n",
       "<style scoped>\n",
       "    .dataframe tbody tr th:only-of-type {\n",
       "        vertical-align: middle;\n",
       "    }\n",
       "\n",
       "    .dataframe tbody tr th {\n",
       "        vertical-align: top;\n",
       "    }\n",
       "\n",
       "    .dataframe thead th {\n",
       "        text-align: right;\n",
       "    }\n",
       "</style>\n",
       "<table border=\"1\" class=\"dataframe\">\n",
       "  <thead>\n",
       "    <tr style=\"text-align: right;\">\n",
       "      <th></th>\n",
       "      <th>train</th>\n",
       "      <th>test</th>\n",
       "    </tr>\n",
       "  </thead>\n",
       "  <tbody>\n",
       "    <tr>\n",
       "      <th>accuracy</th>\n",
       "      <td>0.956287</td>\n",
       "      <td>0.949731</td>\n",
       "    </tr>\n",
       "    <tr>\n",
       "      <th>precision</th>\n",
       "      <td>0.955617</td>\n",
       "      <td>0.952191</td>\n",
       "    </tr>\n",
       "    <tr>\n",
       "      <th>recall</th>\n",
       "      <td>0.943836</td>\n",
       "      <td>0.937255</td>\n",
       "    </tr>\n",
       "    <tr>\n",
       "      <th>f1</th>\n",
       "      <td>0.949690</td>\n",
       "      <td>0.944664</td>\n",
       "    </tr>\n",
       "  </tbody>\n",
       "</table>\n",
       "</div>"
      ],
      "text/plain": [
       "              train      test\n",
       "accuracy   0.956287  0.949731\n",
       "precision  0.955617  0.952191\n",
       "recall     0.943836  0.937255\n",
       "f1         0.949690  0.944664"
      ]
     },
     "execution_count": 28,
     "metadata": {},
     "output_type": "execute_result"
    }
   ],
   "source": [
    "classifier = KNeighborsClassifier(n_neighbors = 5)\n",
    "classifier.fit(X_train, y_train)\n",
    "\n",
    "y_train_pred = classifier.predict(X_train)\n",
    "y_test_pred = classifier.predict(X_test)\n",
    "\n",
    "train_test_full_error = pd.concat([measure_error(y_train, y_train_pred, 'train'),\n",
    "                              measure_error(y_test, y_test_pred, 'test')],\n",
    "                              axis=1)\n",
    "\n",
    "train_test_full_error"
   ]
  },
  {
   "cell_type": "code",
   "execution_count": 29,
   "metadata": {},
   "outputs": [
    {
     "name": "stderr",
     "output_type": "stream",
     "text": [
      "*c* argument looks like a single numeric RGB or RGBA sequence, which should be avoided as value-mapping will have precedence in case its length matches with *x* & *y*.  Please use the *color* keyword-argument or provide a 2-D array with a single row if you intend to specify the same RGB or RGBA value for all points.\n",
      "*c* argument looks like a single numeric RGB or RGBA sequence, which should be avoided as value-mapping will have precedence in case its length matches with *x* & *y*.  Please use the *color* keyword-argument or provide a 2-D array with a single row if you intend to specify the same RGB or RGBA value for all points.\n"
     ]
    },
    {
     "data": {
      "image/png": "[encoded data removed]",
      "text/plain": [
       "<Figure size 432x288 with 1 Axes>"
      ]
     },
     "metadata": {
      "needs_background": "light"
     },
     "output_type": "display_data"
    }
   ],
   "source": [
    "# Visualising the Test set results\n",
    "from matplotlib.colors import ListedColormap\n",
    "X_set, y_set = X_test, y_test\n",
    "X1, X2 = np.meshgrid(np.arange(start = X_set[:, 0].min() - 1, stop = X_set[:, 0].max() + 1, step = 0.01),\n",
    "                     np.arange(start = X_set[:, 1].min() - 1, stop = X_set[:, 1].max() + 1, step = 0.01))\n",
    "plt.contourf(X1, X2, classifier.predict(np.array([X1.ravel(), X2.ravel()]).T).reshape(X1.shape),\n",
    "             alpha = 0.75, cmap = ListedColormap(('red', 'green')))\n",
    "plt.xlim(X1.min(), X1.max())\n",
    "plt.ylim(X2.min(), X2.max())\n",
    "for i, j in enumerate(np.unique(y_set)):\n",
    "    plt.scatter(X_set[y_set == j, 0], X_set[y_set == j, 1],\n",
    "                c = ListedColormap(('red', 'green'))(i), label = j)\n",
    "plt.title('Classifier (Test set)')\n",
    "plt.xlabel('X1')\n",
    "plt.ylabel('X2')\n",
    "plt.legend()\n",
    "plt.show()"
   ]
  },
  {
   "cell_type": "markdown",
   "metadata": {},
   "source": [
    "# Observations"
   ]
  },
  {
   "cell_type": "markdown",
   "metadata": {},
   "source": [
    "##### We can see that we have different accuracies for different models. I would like to take SVM rbf kernel for my model building because this model is not overfitting like decision tree and also giving a max accuracy compared to remaining models."
   ]
  },
  {
   "cell_type": "markdown",
   "metadata": {},
   "source": [
    "# THANK YOU"
   ]
  }
 ],
 "metadata": {
  "kernelspec": {
   "display_name": "Python 3",
   "language": "python",
   "name": "python3"
  },
  "language_info": {
   "codemirror_mode": {
    "name": "ipython",
    "version": 3
   },
   "file_extension": ".py",
   "mimetype": "text/x-python",
   "name": "python",
   "nbconvert_exporter": "python",
   "pygments_lexer": "ipython3",
   "version": "3.8.1"
  }
 },
 "nbformat": 4,
 "nbformat_minor": 4
}
